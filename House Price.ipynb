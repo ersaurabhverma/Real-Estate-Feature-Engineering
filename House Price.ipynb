{
 "cells": [
  {
   "cell_type": "markdown",
   "metadata": {},
   "source": [
    "<img src=\"gif.gif\" width=\"500\" height=\"150\" align=\"center\">"
   ]
  },
  {
   "cell_type": "code",
   "execution_count": 55,
   "metadata": {},
   "outputs": [],
   "source": [
    "# Import Required Packages\n",
    "import pandas as pd\n",
    "import matplotlib.pyplot as plt\n",
    "import seaborn as sns\n",
    "from geopy.extra.rate_limiter import RateLimiter\n",
    "from geopy.geocoders import Nominatim\n",
    "import swifter\n",
    "import numpy as np\n",
    "import requests\n",
    "import json\n",
    "import time\n",
    "import geopy.distance\n",
    "import warnings\n",
    "warnings.filterwarnings('ignore')\n",
    "from termcolor2 import colored\n",
    "import ipywidgets as widgets\n",
    "from IPython.display import display, clear_output\n",
    "import folium\n",
    "sns.set(rc={'figure.figsize':(11.7,8.27)})"
   ]
  },
  {
   "cell_type": "code",
   "execution_count": 73,
   "metadata": {},
   "outputs": [],
   "source": [
    "# Reading the data file\n",
    "data=pd.read_csv('House Price.csv')"
   ]
  },
  {
   "cell_type": "code",
   "execution_count": 7,
   "metadata": {},
   "outputs": [],
   "source": [
    "# Taking the Nominatim class  object\n",
    "locator = Nominatim(user_agent='myGeocoder')"
   ]
  },
  {
   "cell_type": "code",
   "execution_count": 8,
   "metadata": {},
   "outputs": [],
   "source": [
    "geocode = RateLimiter(locator.geocode, min_delay_seconds=1)"
   ]
  },
  {
   "cell_type": "code",
   "execution_count": 19,
   "metadata": {},
   "outputs": [],
   "source": [
    "# Creating the function  for getting longitude and lattitude for project address\n",
    "def get_points(address):\n",
    "    try:\n",
    "        location=geocode(f'{address}, Singapore')\n",
    "        return tuple(list(location.point)[:2])\n",
    "    except:\n",
    "        return np.nan"
   ]
  },
  {
   "cell_type": "code",
   "execution_count": 79,
   "metadata": {
    "scrolled": true
   },
   "outputs": [],
   "source": [
    "\n",
    "# Getting the lon and lat for all project address\n",
    "data['points'] = data['project name'].swifter.apply(get_points)"
   ]
  },
  {
   "cell_type": "code",
   "execution_count": 74,
   "metadata": {},
   "outputs": [
    {
     "data": {
      "text/html": [
       "<div>\n",
       "<style scoped>\n",
       "    .dataframe tbody tr th:only-of-type {\n",
       "        vertical-align: middle;\n",
       "    }\n",
       "\n",
       "    .dataframe tbody tr th {\n",
       "        vertical-align: top;\n",
       "    }\n",
       "\n",
       "    .dataframe thead th {\n",
       "        text-align: right;\n",
       "    }\n",
       "</style>\n",
       "<table border=\"1\" class=\"dataframe\">\n",
       "  <thead>\n",
       "    <tr style=\"text-align: right;\">\n",
       "      <th></th>\n",
       "      <th>price</th>\n",
       "      <th>area</th>\n",
       "      <th>yearbuilt</th>\n",
       "      <th>bathrooms</th>\n",
       "      <th>bedrooms</th>\n",
       "      <th>project name</th>\n",
       "      <th>street name</th>\n",
       "    </tr>\n",
       "  </thead>\n",
       "  <tbody>\n",
       "    <tr>\n",
       "      <th>0</th>\n",
       "      <td>208500</td>\n",
       "      <td>8450</td>\n",
       "      <td>2003</td>\n",
       "      <td>2</td>\n",
       "      <td>3</td>\n",
       "      <td>ARDMORE II</td>\n",
       "      <td>ARDMORE PARK/ANDERSON ROAD</td>\n",
       "    </tr>\n",
       "    <tr>\n",
       "      <th>1</th>\n",
       "      <td>181500</td>\n",
       "      <td>9600</td>\n",
       "      <td>1976</td>\n",
       "      <td>2</td>\n",
       "      <td>3</td>\n",
       "      <td>ASTOR</td>\n",
       "      <td>LENGKONG EMPAT</td>\n",
       "    </tr>\n",
       "    <tr>\n",
       "      <th>2</th>\n",
       "      <td>223500</td>\n",
       "      <td>11250</td>\n",
       "      <td>2001</td>\n",
       "      <td>2</td>\n",
       "      <td>3</td>\n",
       "      <td>BEAUFORT ON NASSIM</td>\n",
       "      <td>NASSIM ROAD</td>\n",
       "    </tr>\n",
       "    <tr>\n",
       "      <th>3</th>\n",
       "      <td>140000</td>\n",
       "      <td>9550</td>\n",
       "      <td>1915</td>\n",
       "      <td>1</td>\n",
       "      <td>3</td>\n",
       "      <td>BLOSSOMS @ WOODLEIGH</td>\n",
       "      <td>WOODLEIGH CLOSE</td>\n",
       "    </tr>\n",
       "    <tr>\n",
       "      <th>4</th>\n",
       "      <td>250000</td>\n",
       "      <td>14260</td>\n",
       "      <td>2000</td>\n",
       "      <td>2</td>\n",
       "      <td>4</td>\n",
       "      <td>BLUWATERS 2</td>\n",
       "      <td>JALAN LOYANG BESAR</td>\n",
       "    </tr>\n",
       "    <tr>\n",
       "      <th>...</th>\n",
       "      <td>...</td>\n",
       "      <td>...</td>\n",
       "      <td>...</td>\n",
       "      <td>...</td>\n",
       "      <td>...</td>\n",
       "      <td>...</td>\n",
       "      <td>...</td>\n",
       "    </tr>\n",
       "    <tr>\n",
       "      <th>1357</th>\n",
       "      <td>149900</td>\n",
       "      <td>12537</td>\n",
       "      <td>1971</td>\n",
       "      <td>1</td>\n",
       "      <td>3</td>\n",
       "      <td>CLOVER BY THE PARK</td>\n",
       "      <td>BISHAN STREET 25</td>\n",
       "    </tr>\n",
       "    <tr>\n",
       "      <th>1358</th>\n",
       "      <td>177500</td>\n",
       "      <td>2117</td>\n",
       "      <td>2000</td>\n",
       "      <td>2</td>\n",
       "      <td>3</td>\n",
       "      <td>COASTAL BREEZE RESIDENCES</td>\n",
       "      <td>LOYANG BESAR CLOSE</td>\n",
       "    </tr>\n",
       "    <tr>\n",
       "      <th>1359</th>\n",
       "      <td>315000</td>\n",
       "      <td>16737</td>\n",
       "      <td>2004</td>\n",
       "      <td>2</td>\n",
       "      <td>3</td>\n",
       "      <td>CONCOURSE SKYLINE</td>\n",
       "      <td>BEACH ROAD</td>\n",
       "    </tr>\n",
       "    <tr>\n",
       "      <th>1360</th>\n",
       "      <td>189000</td>\n",
       "      <td>9842</td>\n",
       "      <td>1921</td>\n",
       "      <td>3</td>\n",
       "      <td>4</td>\n",
       "      <td>CYAN</td>\n",
       "      <td>BUKIT TIMAH ROAD/KENG CHIN ROAD</td>\n",
       "    </tr>\n",
       "    <tr>\n",
       "      <th>1361</th>\n",
       "      <td>260000</td>\n",
       "      <td>16158</td>\n",
       "      <td>2005</td>\n",
       "      <td>2</td>\n",
       "      <td>3</td>\n",
       "      <td>D' FRESCO</td>\n",
       "      <td>JOO CHIAT LANE</td>\n",
       "    </tr>\n",
       "  </tbody>\n",
       "</table>\n",
       "<p>1362 rows × 7 columns</p>\n",
       "</div>"
      ],
      "text/plain": [
       "       price   area  yearbuilt  bathrooms  bedrooms  \\\n",
       "0     208500   8450       2003          2         3   \n",
       "1     181500   9600       1976          2         3   \n",
       "2     223500  11250       2001          2         3   \n",
       "3     140000   9550       1915          1         3   \n",
       "4     250000  14260       2000          2         4   \n",
       "...      ...    ...        ...        ...       ...   \n",
       "1357  149900  12537       1971          1         3   \n",
       "1358  177500   2117       2000          2         3   \n",
       "1359  315000  16737       2004          2         3   \n",
       "1360  189000   9842       1921          3         4   \n",
       "1361  260000  16158       2005          2         3   \n",
       "\n",
       "                   project name                      street name  \n",
       "0                    ARDMORE II       ARDMORE PARK/ANDERSON ROAD  \n",
       "1                         ASTOR                   LENGKONG EMPAT  \n",
       "2            BEAUFORT ON NASSIM                      NASSIM ROAD  \n",
       "3          BLOSSOMS @ WOODLEIGH                  WOODLEIGH CLOSE  \n",
       "4                   BLUWATERS 2               JALAN LOYANG BESAR  \n",
       "...                         ...                              ...  \n",
       "1357         CLOVER BY THE PARK                 BISHAN STREET 25  \n",
       "1358  COASTAL BREEZE RESIDENCES               LOYANG BESAR CLOSE  \n",
       "1359          CONCOURSE SKYLINE                       BEACH ROAD  \n",
       "1360                       CYAN  BUKIT TIMAH ROAD/KENG CHIN ROAD  \n",
       "1361                  D' FRESCO                   JOO CHIAT LANE  \n",
       "\n",
       "[1362 rows x 7 columns]"
      ]
     },
     "execution_count": 74,
     "metadata": {},
     "output_type": "execute_result"
    }
   ],
   "source": [
    "data"
   ]
  },
  {
   "cell_type": "markdown",
   "metadata": {},
   "source": [
    "### Getting Ammenities"
   ]
  },
  {
   "cell_type": "code",
   "execution_count": 10,
   "metadata": {},
   "outputs": [],
   "source": [
    "# Creating the function to find the amenity's longitude and lattitude\n",
    "def find_pois(pois):\n",
    "    POI={}\n",
    "    not_run_pois=[]\n",
    "    for poi in pois:\n",
    "        try:\n",
    "            overpass_url = \"http://overpass-api.de/api/interpreter\"\n",
    "            overpass_query = f\"\"\"\n",
    "            [out:json];\n",
    "            area[\"ISO3166-1\"=\"SG\"][admin_level=2];\n",
    "            (node[\"amenity\"={poi}](area);\n",
    "             way[\"amenity\"={poi}](area);\n",
    "             rel[\"amenity\"={poi}](area);\n",
    "            );\n",
    "            out center;\n",
    "            \"\"\"\n",
    "            response = requests.get(overpass_url, \n",
    "                                    params={'data': overpass_query})\n",
    "            data = response.json()\n",
    "            coords = []\n",
    "            for element in data['elements']:\n",
    "                if element['type'] == 'node':\n",
    "                    lon = element['lon']\n",
    "                    lat = element['lat']\n",
    "                    coords.append((lat,lon))\n",
    "                elif 'center' in element:\n",
    "                    lon = element['center']['lon']\n",
    "                    lat = element['center']['lat']\n",
    "                    coords.append((lat,lon))\n",
    "            POI[poi]=coords\n",
    "            print(colored(f'{poi.upper()} data has been successfully extracted','green'))\n",
    "        except:\n",
    "            print(colored(f'{poi.upper()} is Failed','red'))\n",
    "            not_run_pois.append(poi)\n",
    "            \n",
    "    return POI,not_run_pois"
   ]
  },
  {
   "cell_type": "code",
   "execution_count": 11,
   "metadata": {},
   "outputs": [
    {
     "name": "stdout",
     "output_type": "stream",
     "text": [
      "\u001b[32mHOSPITAL data has been successfully extracted\u001b[0m\n",
      "\u001b[32mSCHOOL data has been successfully extracted\u001b[0m\n",
      "\u001b[31mRESTAURANT is Failed\u001b[0m\n",
      "\u001b[32mBUS_STATION data has been successfully extracted\u001b[0m\n",
      "\u001b[31mATM is Failed\u001b[0m\n",
      "\u001b[32mCINEMA data has been successfully extracted\u001b[0m\n",
      "\u001b[31mTHEATRE is Failed\u001b[0m\n",
      "\u001b[32mBANK data has been successfully extracted\u001b[0m\n",
      "\u001b[32mUNIVERSITY data has been successfully extracted\u001b[0m\n",
      "\u001b[31mCOLLEGE is Failed\u001b[0m\n",
      "\u001b[32mCASINO data has been successfully extracted\u001b[0m\n",
      "\u001b[31mFIRE_STATION is Failed\u001b[0m\n",
      "\u001b[32mPOLICE data has been successfully extracted\u001b[0m\n",
      "::=================================================================================================::\n",
      "\u001b[34mRunning Again for ['restaurant', 'atm', 'theatre', 'college', 'fire_station']\u001b[0m\n",
      "\u001b[32mRESTAURANT data has been successfully extracted\u001b[0m\n",
      "\u001b[31mATM is Failed\u001b[0m\n",
      "\u001b[31mTHEATRE is Failed\u001b[0m\n",
      "\u001b[32mCOLLEGE data has been successfully extracted\u001b[0m\n",
      "\u001b[31mFIRE_STATION is Failed\u001b[0m\n",
      "::=================================================================================================::\n",
      "\u001b[34mRunning Again for ['atm', 'theatre', 'fire_station']\u001b[0m\n",
      "\u001b[31mATM is Failed\u001b[0m\n",
      "\u001b[32mTHEATRE data has been successfully extracted\u001b[0m\n",
      "\u001b[32mFIRE_STATION data has been successfully extracted\u001b[0m\n",
      "::=================================================================================================::\n",
      "\u001b[34mRunning Again for ['atm']\u001b[0m\n",
      "\u001b[31mATM is Failed\u001b[0m\n",
      "::=================================================================================================::\n",
      "\u001b[34mRunning Again for ['atm']\u001b[0m\n",
      "\u001b[32mATM data has been successfully extracted\u001b[0m\n",
      "Wall time: 5min 4s\n"
     ]
    }
   ],
   "source": [
    "# Getting the amenity's longitude and lattitude\n",
    "%%time\n",
    "pois,_ = find_pois(pois=[\"hospital\",\"school\",\"restaurant\",\"bus_station\",\"atm\",\"cinema\",\"theatre\",\"bank\",\"university\",\"college\",\n",
    "                \"casino\",\"fire_station\",\"police\"])\n",
    "while len(_)>0:\n",
    "    print('::=================================================================================================::')\n",
    "    print(colored(f'Running Again for {_}','blue'))\n",
    "    new_pois,_ = find_pois(_)\n",
    "    pois = {**pois,**new_pois}"
   ]
  },
  {
   "cell_type": "code",
   "execution_count": 13,
   "metadata": {},
   "outputs": [],
   "source": [
    "# Creating the function to count number of pois with the threshold \n",
    "def pois_count(house_pos:tuple,ammenities:dict,threshold=10):\n",
    "    distances=[]\n",
    "    house_pos=tuple(list(map(lambda x :float( x.replace('(','').replace(')','')),house_pos.split(','))))\n",
    "    for key in ammenities.keys():\n",
    "        distance=[]\n",
    "        for poi_pos in ammenities[key]:\n",
    "            distance.append(geopy.distance.vincenty(house_pos, poi_pos).km)\n",
    "        distance=list(filter(lambda x : x <=threshold,distance))\n",
    "        distances.append(len(distance))\n",
    "    return distances"
   ]
  },
  {
   "cell_type": "code",
   "execution_count": 24,
   "metadata": {},
   "outputs": [
    {
     "data": {
      "application/vnd.jupyter.widget-view+json": {
       "model_id": "85f55a1b640f40f6b63264ef2b17f76a",
       "version_major": 2,
       "version_minor": 0
      },
      "text/plain": [
       "HBox(children=(FloatProgress(value=0.0, description='Pandas Apply', max=1362.0, style=ProgressStyle(descriptio…"
      ]
     },
     "metadata": {},
     "output_type": "display_data"
    },
    {
     "name": "stdout",
     "output_type": "stream",
     "text": [
      "\n",
      "Wall time: 7min 14s\n"
     ]
    }
   ],
   "source": [
    "# Making the columns for poi count from each project\n",
    "%%time\n",
    "data['count_hospital'], data['count_school'], data['count_restaurant'], data['count_bus_station'], \n",
    "data['count_atm'], data['count_theatre'], data['count_casino'], data['count_fire_station'], \n",
    "data['count_cinema'],data['count_bank'], data['count_college'], data['count_police'],\n",
    "data['count_university']=zip(*data.swifter.apply(lambda x : pois_count(x['points'],pois),axis=1))"
   ]
  },
  {
   "cell_type": "code",
   "execution_count": 72,
   "metadata": {},
   "outputs": [
    {
     "data": {
      "application/vnd.jupyter.widget-view+json": {
       "model_id": "f833cc4556da45c6868ac6c9981be41e",
       "version_major": 2,
       "version_minor": 0
      },
      "text/plain": [
       "Dropdown(description='Project Name', options=('ARDMORE II', 'ASTOR', 'BEAUFORT ON NASSIM', 'BLOSSOMS @ WOODLEI…"
      ]
     },
     "metadata": {},
     "output_type": "display_data"
    },
    {
     "data": {
      "application/vnd.jupyter.widget-view+json": {
       "model_id": "a2e5ab41e9b447b3aa2717c0d3de4bad",
       "version_major": 2,
       "version_minor": 0
      },
      "text/plain": [
       "Dropdown(description='Ammenity', options=('hospital', 'school', 'bus_station', 'cinema', 'bank', 'university',…"
      ]
     },
     "metadata": {},
     "output_type": "display_data"
    },
    {
     "data": {
      "application/vnd.jupyter.widget-view+json": {
       "model_id": "3352b72d70204755b4fb01fd521b96b2",
       "version_major": 2,
       "version_minor": 0
      },
      "text/plain": [
       "Output()"
      ]
     },
     "metadata": {},
     "output_type": "display_data"
    }
   ],
   "source": [
    "# PLotting the pois and project\n",
    "icons={'hospital':'plus', 'school':'book', 'restaurant':'spoon', 'atm':'money', 'cinema':'film',\n",
    "       'theatre':'camera', 'bank':'bank', 'university':'university', 'college':'university', \n",
    "       'casino':'diamond', 'police':'shield', 'fire_station':'fire','bus_station':'bus'}\n",
    "dropdown_project = widgets.Dropdown(options = data['project name'].unique(),description='Project Name')\n",
    "dropdown_pois = widgets.Dropdown(options = pois.keys(), description='Ammenity')\n",
    "output=widgets.Output()\n",
    "output.clear_output()\n",
    "def filtering(project,poi):\n",
    "        output.clear_output()\n",
    "        centre=data.loc[data['project name']==project,'points'].iloc[0]\n",
    "        centre=list(map(lambda x :float( x.replace('(','').replace(')','')),centre.split(',')))\n",
    "        ammenity_map = folium.Map(location=centre, zoom_start=12)\n",
    "        folium.CircleMarker(centre,color='red',fill=True,popup=project).add_to(ammenity_map)   \n",
    "        for points in pois[poi]:\n",
    "            folium.Marker(list(points), color='b', radius=5,\n",
    "                          popup = poi,icon=folium.Icon(icon=icons[poi],prefix='fa'),\n",
    "                          fill_opacity=1).add_to(ammenity_map)       \n",
    "        with output:\n",
    "            display(ammenity_map)\n",
    "def project_event_handler(change):\n",
    "    filtering(change.new, dropdown_pois.value)\n",
    "\n",
    "def poi_event_handler(change):\n",
    "    filtering(dropdown_project.value, change.new)\n",
    "dropdown_project.observe(project_event_handler,names='value')\n",
    "dropdown_pois.observe(poi_event_handler,names='value')\n",
    "display(dropdown_project)\n",
    "display(dropdown_pois)\n",
    "display(output)"
   ]
  },
  {
   "cell_type": "code",
   "execution_count": 77,
   "metadata": {},
   "outputs": [
    {
     "data": {
      "text/plain": [
       "<matplotlib.axes._subplots.AxesSubplot at 0x28116dfa470>"
      ]
     },
     "execution_count": 77,
     "metadata": {},
     "output_type": "execute_result"
    },
    {
     "data": {
      "image/png": "[encoded data removed]",
      "text/plain": [
       "<Figure size 842.4x595.44 with 2 Axes>"
      ]
     },
     "metadata": {},
     "output_type": "display_data"
    }
   ],
   "source": [
    "# Getting correlation matrix for newly created features\n",
    "sns.heatmap(data.corr())"
   ]
  },
  {
   "cell_type": "code",
   "execution_count": null,
   "metadata": {},
   "outputs": [],
   "source": []
  }
 ],
 "metadata": {
  "kernelspec": {
   "display_name": "Python 3",
   "language": "python",
   "name": "python3"
  },
  "language_info": {
   "codemirror_mode": {
    "name": "ipython",
    "version": 3
   },
   "file_extension": ".py",
   "mimetype": "text/x-python",
   "name": "python",
   "nbconvert_exporter": "python",
   "pygments_lexer": "ipython3",
   "version": "3.6.8"
  }
 },
 "nbformat": 4,
 "nbformat_minor": 2
}
